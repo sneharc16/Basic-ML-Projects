{
  "nbformat": 4,
  "nbformat_minor": 0,
  "metadata": {
    "colab": {
      "provenance": [],
      "authorship_tag": "ABX9TyN4a889+EVblofGUziWqEtu",
      "include_colab_link": true
    },
    "kernelspec": {
      "name": "python3",
      "display_name": "Python 3"
    },
    "language_info": {
      "name": "python"
    }
  },
  "cells": [
    {
      "cell_type": "markdown",
      "metadata": {
        "id": "view-in-github",
        "colab_type": "text"
      },
      "source": [
        "<a href=\"https://colab.research.google.com/github/sneharc16/Basic-ML-Projects/blob/main/Implementing_linear_regression_using_Standard_Library_(scikit_learn).ipynb\" target=\"_parent\"><img src=\"https://colab.research.google.com/assets/colab-badge.svg\" alt=\"Open In Colab\"/></a>"
      ]
    },
    {
      "cell_type": "markdown",
      "source": [
        "# Salary Prediction using Linear Regression\n"
      ],
      "metadata": {
        "id": "t3T7Av4KfNaG"
      }
    },
    {
      "cell_type": "markdown",
      "source": [
        "## Data Loading and Preprocessing"
      ],
      "metadata": {
        "id": "Ie_J7607fTvE"
      }
    },
    {
      "cell_type": "markdown",
      "source": [
        "### Importing Libraries\n",
        "This section imports the necessary libraries for data analysis, manipulation, and visualization.\n",
        "\n",
        "Dataset Link: https://www.kaggle.com/datasets/shubham47/salary-data-dataset-for-linear-regression"
      ],
      "metadata": {
        "id": "9AiCEK7JQ1cU"
      }
    },
    {
      "cell_type": "code",
      "execution_count": 33,
      "metadata": {
        "id": "WC_F8wzrQpas"
      },
      "outputs": [],
      "source": [
        "import numpy as np\n",
        "import pandas as pd\n",
        "import matplotlib.pyplot as plt"
      ]
    },
    {
      "cell_type": "markdown",
      "source": [
        "#Loading the dataset\n",
        "This section loads the salary dataset from a CSV file."
      ],
      "metadata": {
        "id": "weSXl8ulRRnO"
      }
    },
    {
      "cell_type": "code",
      "source": [
        "ds = pd.read_csv(\"/content/Salary_Data.csv.xls\")\n",
        "X = ds[\"YearsExperience\"].values\n",
        "Y = ds[\"Salary\"].values"
      ],
      "metadata": {
        "id": "62fcIJ8ZQ7mX"
      },
      "execution_count": 34,
      "outputs": []
    },
    {
      "cell_type": "code",
      "source": [
        "X"
      ],
      "metadata": {
        "colab": {
          "base_uri": "https://localhost:8080/"
        },
        "id": "_-_34gIuSTFR",
        "outputId": "7a3ee7ca-b98e-471e-b442-e059b5143782"
      },
      "execution_count": 35,
      "outputs": [
        {
          "output_type": "execute_result",
          "data": {
            "text/plain": [
              "array([ 1.1,  1.3,  1.5,  2. ,  2.2,  2.9,  3. ,  3.2,  3.2,  3.7,  3.9,\n",
              "        4. ,  4. ,  4.1,  4.5,  4.9,  5.1,  5.3,  5.9,  6. ,  6.8,  7.1,\n",
              "        7.9,  8.2,  8.7,  9. ,  9.5,  9.6, 10.3, 10.5])"
            ]
          },
          "metadata": {},
          "execution_count": 35
        }
      ]
    },
    {
      "cell_type": "code",
      "source": [
        "Y"
      ],
      "metadata": {
        "colab": {
          "base_uri": "https://localhost:8080/"
        },
        "id": "lphr3QGYSVr7",
        "outputId": "5bd7786a-12f2-4e7d-bfc9-65f7d8a088a3"
      },
      "execution_count": 36,
      "outputs": [
        {
          "output_type": "execute_result",
          "data": {
            "text/plain": [
              "array([ 39343,  46205,  37731,  43525,  39891,  56642,  60150,  54445,\n",
              "        64445,  57189,  63218,  55794,  56957,  57081,  61111,  67938,\n",
              "        66029,  83088,  81363,  93940,  91738,  98273, 101302, 113812,\n",
              "       109431, 105582, 116969, 112635, 122391, 121872])"
            ]
          },
          "metadata": {},
          "execution_count": 36
        }
      ]
    },
    {
      "cell_type": "markdown",
      "source": [
        "###Data Visualizatoion\n",
        "This section plots the relationship between Years of Experience and Salary.\n"
      ],
      "metadata": {
        "id": "Cfz_Nln8Tauq"
      }
    },
    {
      "cell_type": "code",
      "source": [
        "plt.plot(X,Y)"
      ],
      "metadata": {
        "colab": {
          "base_uri": "https://localhost:8080/",
          "height": 447
        },
        "id": "h92epTarRewV",
        "outputId": "1fa93198-3a1e-4e00-d9dc-811550b123a6"
      },
      "execution_count": 37,
      "outputs": [
        {
          "output_type": "execute_result",
          "data": {
            "text/plain": [
              "[<matplotlib.lines.Line2D at 0x78aac8a38820>]"
            ]
          },
          "metadata": {},
          "execution_count": 37
        },
        {
          "output_type": "display_data",
          "data": {
            "text/plain": [
              "<Figure size 640x480 with 1 Axes>"
            ],
            "image/png": "[encoded data removed]"
          },
          "metadata": {}
        }
      ]
    },
    {
      "cell_type": "markdown",
      "source": [
        "## Data Preparation\n",
        "\n",
        "### Converting to NumPy Arrays\n",
        "This section converts the data into NumPy arrays for easier manipulation."
      ],
      "metadata": {
        "id": "cS7vO-a2f8Df"
      }
    },
    {
      "cell_type": "code",
      "source": [
        "X = np.array(X)\n",
        "Y = np.array(Y)"
      ],
      "metadata": {
        "id": "x372hH26TVrO"
      },
      "execution_count": 38,
      "outputs": []
    },
    {
      "cell_type": "markdown",
      "source": [
        "## Feature Scaling\n",
        "\n",
        "### Defining Functions for Mean, Variance, and Normalization\n",
        "This section defines functions to calculate the mean, variance, and perform normalization on the data."
      ],
      "metadata": {
        "id": "W8SyyIIyU7zr"
      }
    },
    {
      "cell_type": "code",
      "source": [
        "def mean(X):\n",
        "    return np.sum(X)/len(X)"
      ],
      "metadata": {
        "id": "KG_iqdZ4Tlx6"
      },
      "execution_count": 39,
      "outputs": []
    },
    {
      "cell_type": "code",
      "source": [
        "def variance(X):\n",
        "    mean_value = mean(X)\n",
        "    return np.sum((X-mean_value)**2)/len(X)"
      ],
      "metadata": {
        "id": "3F3RehEZToTJ"
      },
      "execution_count": 40,
      "outputs": []
    },
    {
      "cell_type": "code",
      "source": [
        "def norm(X):\n",
        "    mean_value = mean(X)\n",
        "    variance_value = variance(X)\n",
        "    return (X - mean_value)/np.sqrt(variance_value)"
      ],
      "metadata": {
        "id": "L_Zdy1arTrFh"
      },
      "execution_count": 41,
      "outputs": []
    },
    {
      "cell_type": "markdown",
      "source": [
        "### Normalizing the Feature\n",
        "This section normalizes the 'YearsExperience' feature using the defined normalization function."
      ],
      "metadata": {
        "id": "DPC-8VbcgFbw"
      }
    },
    {
      "cell_type": "code",
      "source": [
        "X_norm = norm(X)"
      ],
      "metadata": {
        "id": "QDyX7_XaTt0S"
      },
      "execution_count": 42,
      "outputs": []
    },
    {
      "cell_type": "code",
      "source": [
        "X_norm"
      ],
      "metadata": {
        "colab": {
          "base_uri": "https://localhost:8080/"
        },
        "id": "YkGXLrz8TwH6",
        "outputId": "1c4eb76b-c87b-49ed-bd49-6eb5d2edd6a4"
      },
      "execution_count": 43,
      "outputs": [
        {
          "output_type": "execute_result",
          "data": {
            "text/plain": [
              "array([-1.51005294, -1.43837321, -1.36669348, -1.18749416, -1.11581443,\n",
              "       -0.86493538, -0.82909552, -0.75741579, -0.75741579, -0.57821647,\n",
              "       -0.50653674, -0.47069688, -0.47069688, -0.43485702, -0.29149756,\n",
              "       -0.1481381 , -0.07645838, -0.00477865,  0.21026054,  0.2461004 ,\n",
              "        0.53281931,  0.6403389 ,  0.92705781,  1.03457741,  1.21377673,\n",
              "        1.32129632,  1.50049564,  1.5363355 ,  1.78721455,  1.85889428])"
            ]
          },
          "metadata": {},
          "execution_count": 43
        }
      ]
    },
    {
      "cell_type": "code",
      "source": [
        "plt.plot(X_norm,Y)"
      ],
      "metadata": {
        "colab": {
          "base_uri": "https://localhost:8080/",
          "height": 447
        },
        "id": "XWqY7PtVTyq8",
        "outputId": "d10f6f38-4a94-461c-f345-95330564f449"
      },
      "execution_count": 44,
      "outputs": [
        {
          "output_type": "execute_result",
          "data": {
            "text/plain": [
              "[<matplotlib.lines.Line2D at 0x78aac6fdd2a0>]"
            ]
          },
          "metadata": {},
          "execution_count": 44
        },
        {
          "output_type": "display_data",
          "data": {
            "text/plain": [
              "<Figure size 640x480 with 1 Axes>"
            ],
            "image/png": "[encoded data removed]"
          },
          "metadata": {}
        }
      ]
    },
    {
      "cell_type": "markdown",
      "source": [
        "## Model Building and Evaluation\n",
        "\n",
        "### Importing the Linear Regression Model\n",
        "This section imports the Linear Regression model from scikit-learn."
      ],
      "metadata": {
        "id": "gjtBTc15gLOV"
      }
    },
    {
      "cell_type": "code",
      "source": [
        "!pip install scikit-learn"
      ],
      "metadata": {
        "colab": {
          "base_uri": "https://localhost:8080/"
        },
        "id": "jZLoLNw2Rjj5",
        "outputId": "3982d67d-93f2-4167-95f0-52698b12ede9"
      },
      "execution_count": 45,
      "outputs": [
        {
          "output_type": "stream",
          "name": "stdout",
          "text": [
            "Requirement already satisfied: scikit-learn in /usr/local/lib/python3.10/dist-packages (1.5.2)\n",
            "Requirement already satisfied: numpy>=1.19.5 in /usr/local/lib/python3.10/dist-packages (from scikit-learn) (1.26.4)\n",
            "Requirement already satisfied: scipy>=1.6.0 in /usr/local/lib/python3.10/dist-packages (from scikit-learn) (1.13.1)\n",
            "Requirement already satisfied: joblib>=1.2.0 in /usr/local/lib/python3.10/dist-packages (from scikit-learn) (1.4.2)\n",
            "Requirement already satisfied: threadpoolctl>=3.1.0 in /usr/local/lib/python3.10/dist-packages (from scikit-learn) (3.5.0)\n"
          ]
        }
      ]
    },
    {
      "cell_type": "code",
      "source": [
        "from sklearn.linear_model import LinearRegression"
      ],
      "metadata": {
        "id": "SjWhovS3T42w"
      },
      "execution_count": 46,
      "outputs": []
    },
    {
      "cell_type": "markdown",
      "source": [
        "### Training the Model\n",
        "This section trains the Linear Regression model on the normalized data."
      ],
      "metadata": {
        "id": "mPTpdsdAgOAe"
      }
    },
    {
      "cell_type": "code",
      "source": [
        "X_norm = X_norm.reshape(-1,1)"
      ],
      "metadata": {
        "id": "oor1Sox1T7Dq"
      },
      "execution_count": 47,
      "outputs": []
    },
    {
      "cell_type": "code",
      "source": [
        "reg = LinearRegression().fit(X_norm, Y)"
      ],
      "metadata": {
        "id": "Lw3meeTIT9K0"
      },
      "execution_count": 48,
      "outputs": []
    },
    {
      "cell_type": "markdown",
      "source": [
        "### Evaluating the Model\n",
        "This section evaluates the model's performance using the score method."
      ],
      "metadata": {
        "id": "wlsMOQBmgRYL"
      }
    },
    {
      "cell_type": "code",
      "source": [
        "reg.score(X_norm, Y)"
      ],
      "metadata": {
        "colab": {
          "base_uri": "https://localhost:8080/"
        },
        "id": "S4lXNIo7T_TA",
        "outputId": "d4f320b7-f72d-423d-92da-ef45f68e4a7a"
      },
      "execution_count": 49,
      "outputs": [
        {
          "output_type": "execute_result",
          "data": {
            "text/plain": [
              "0.9569566641435086"
            ]
          },
          "metadata": {},
          "execution_count": 49
        }
      ]
    },
    {
      "cell_type": "code",
      "source": [
        "reg.coef_"
      ],
      "metadata": {
        "colab": {
          "base_uri": "https://localhost:8080/"
        },
        "id": "_t6IVTeiUB_q",
        "outputId": "95e22319-c067-4d2e-9eac-e9fcad148e8e"
      },
      "execution_count": 50,
      "outputs": [
        {
          "output_type": "execute_result",
          "data": {
            "text/plain": [
              "array([26367.18244354])"
            ]
          },
          "metadata": {},
          "execution_count": 50
        }
      ]
    },
    {
      "cell_type": "code",
      "source": [
        "reg.intercept_"
      ],
      "metadata": {
        "colab": {
          "base_uri": "https://localhost:8080/"
        },
        "id": "GbtyzBxoUEP-",
        "outputId": "932a1b7d-11dc-4d52-c3a0-5f03a2cd7aa9"
      },
      "execution_count": 51,
      "outputs": [
        {
          "output_type": "execute_result",
          "data": {
            "text/plain": [
              "76003.0"
            ]
          },
          "metadata": {},
          "execution_count": 51
        }
      ]
    },
    {
      "cell_type": "code",
      "source": [
        "y_pred = reg.predict(X_norm)"
      ],
      "metadata": {
        "id": "Wm2fOTMyUFtL"
      },
      "execution_count": 52,
      "outputs": []
    },
    {
      "cell_type": "markdown",
      "source": [
        "### Making Predictions\n",
        "This section uses the trained model to make predictions on the normalized data."
      ],
      "metadata": {
        "id": "MtMprCnYggbH"
      }
    },
    {
      "cell_type": "code",
      "source": [
        "y_pred"
      ],
      "metadata": {
        "colab": {
          "base_uri": "https://localhost:8080/"
        },
        "id": "Vg7IMY1vUJPh",
        "outputId": "13fbd75d-7081-4be1-c163-4d535d4522f0"
      },
      "execution_count": 53,
      "outputs": [
        {
          "output_type": "execute_result",
          "data": {
            "text/plain": [
              "array([ 36187.15875227,  38077.15121656,  39967.14368085,  44692.12484158,\n",
              "        46582.11730587,  53197.09093089,  54142.08716303,  56032.07962732,\n",
              "        56032.07962732,  60757.06078805,  62647.05325234,  63592.04948449,\n",
              "        63592.04948449,  64537.04571663,  68317.03064522,  72097.0155738 ,\n",
              "        73987.00803809,  75877.00050238,  81546.97789525,  82491.9741274 ,\n",
              "        90051.94398456,  92886.932681  , 100446.90253816, 103281.8912346 ,\n",
              "       108006.87239533, 110841.86109176, 115566.84225249, 116511.83848464,\n",
              "       123126.81210966, 125016.80457395])"
            ]
          },
          "metadata": {},
          "execution_count": 53
        }
      ]
    },
    {
      "cell_type": "markdown",
      "source": [
        "### Visualizing Predictions\n",
        "This section visualizes the predicted values against the actual values."
      ],
      "metadata": {
        "id": "X1Xf5NnGgtJr"
      }
    },
    {
      "cell_type": "code",
      "source": [
        "plt.plot(X_norm, Y)\n",
        "plt.plot(X_norm, y_pred)"
      ],
      "metadata": {
        "colab": {
          "base_uri": "https://localhost:8080/",
          "height": 447
        },
        "id": "_o1EcmXJUcmT",
        "outputId": "79e9228d-d2f1-435a-a9fd-79bad1b546da"
      },
      "execution_count": 54,
      "outputs": [
        {
          "output_type": "execute_result",
          "data": {
            "text/plain": [
              "[<matplotlib.lines.Line2D at 0x78ab0a2fe290>]"
            ]
          },
          "metadata": {},
          "execution_count": 54
        },
        {
          "output_type": "display_data",
          "data": {
            "text/plain": [
              "<Figure size 640x480 with 1 Axes>"
            ],
            "image/png": "[encoded data removed]"
          },
          "metadata": {}
        }
      ]
    }
  ]
}